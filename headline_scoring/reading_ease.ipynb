{
 "cells": [
  {
   "cell_type": "code",
   "execution_count": 2,
   "metadata": {},
   "outputs": [],
   "source": [
    "# Import Pandas and Numpy\n",
    "import pandas as pd\n",
    "import numpy as np\n",
    "\n",
    "# add header when importing dataset\n",
    "column_names=['Headline']\n",
    "\n",
    "# load in dataset\n",
    "df = pd.read_csv('economic_news_arrticles_usa_2021_headlines_only.txt', names=column_names)"
   ]
  },
  {
   "cell_type": "code",
   "execution_count": 3,
   "metadata": {},
   "outputs": [],
   "source": [
    "# Load textstat\n",
    "# https://pypi.org/project/textstat/\n",
    "\n",
    "import textstat"
   ]
  },
  {
   "cell_type": "code",
   "execution_count": 4,
   "metadata": {},
   "outputs": [],
   "source": [
    "# Calculate flesch reading ease score for each summary\n",
    "\n",
    "flesch = df['Headline'].apply(textstat.flesch_reading_ease)\n",
    "#flesch = pd.DataFrame(flesch, columns=['Flesch'])"
   ]
  },
  {
   "cell_type": "code",
   "execution_count": 5,
   "metadata": {},
   "outputs": [],
   "source": [
    "# Calculate word count for each summary\n",
    "\n",
    "lexicon = df['Headline'].apply(textstat.lexicon_count)\n",
    "#lexicon = pd.DataFrame(lexicon, columns=['Word_Count'])"
   ]
  },
  {
   "cell_type": "code",
   "execution_count": 6,
   "metadata": {},
   "outputs": [],
   "source": [
    "df['Flesch_Score'] = flesch\n",
    "df['Word_Count'] = lexicon"
   ]
  },
  {
   "cell_type": "code",
   "execution_count": 7,
   "metadata": {},
   "outputs": [],
   "source": [
    "df.to_csv('headline_lexical_scores.csv') "
   ]
  }
 ],
 "metadata": {
  "kernelspec": {
   "display_name": "Python 3 (ipykernel)",
   "language": "python",
   "name": "python3"
  },
  "language_info": {
   "codemirror_mode": {
    "name": "ipython",
    "version": 3
   },
   "file_extension": ".py",
   "mimetype": "text/x-python",
   "name": "python",
   "nbconvert_exporter": "python",
   "pygments_lexer": "ipython3",
   "version": "3.9.12"
  }
 },
 "nbformat": 4,
 "nbformat_minor": 2
}
